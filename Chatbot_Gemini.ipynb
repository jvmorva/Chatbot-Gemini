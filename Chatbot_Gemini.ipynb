{
  "cells": [
    {
      "cell_type": "markdown",
      "metadata": {
        "id": "view-in-github",
        "colab_type": "text"
      },
      "source": [
        "<a href=\"https://colab.research.google.com/github/jvmorva/Chatbot-Gemini/blob/main/Chatbot_Gemini.ipynb\" target=\"_parent\"><img src=\"https://colab.research.google.com/assets/colab-badge.svg\" alt=\"Open In Colab\"/></a>"
      ]
    },
    {
      "cell_type": "code",
      "execution_count": 1,
      "metadata": {
        "id": "RaPZGrabXG7L",
        "colab": {
          "base_uri": "https://localhost:8080/"
        },
        "outputId": "0a43be32-ce01-46c8-b719-c999ec05bc8e"
      },
      "outputs": [
        {
          "output_type": "stream",
          "name": "stdout",
          "text": [
            "Requirement already satisfied: google-genai==1.15.0 in /usr/local/lib/python3.11/dist-packages (1.15.0)\n",
            "Requirement already satisfied: anyio<5.0.0,>=4.8.0 in /usr/local/lib/python3.11/dist-packages (from google-genai==1.15.0) (4.9.0)\n",
            "Requirement already satisfied: google-auth<3.0.0,>=2.14.1 in /usr/local/lib/python3.11/dist-packages (from google-genai==1.15.0) (2.38.0)\n",
            "Requirement already satisfied: httpx<1.0.0,>=0.28.1 in /usr/local/lib/python3.11/dist-packages (from google-genai==1.15.0) (0.28.1)\n",
            "Requirement already satisfied: pydantic<3.0.0,>=2.0.0 in /usr/local/lib/python3.11/dist-packages (from google-genai==1.15.0) (2.11.4)\n",
            "Requirement already satisfied: requests<3.0.0,>=2.28.1 in /usr/local/lib/python3.11/dist-packages (from google-genai==1.15.0) (2.32.3)\n",
            "Requirement already satisfied: websockets<15.1.0,>=13.0.0 in /usr/local/lib/python3.11/dist-packages (from google-genai==1.15.0) (15.0.1)\n",
            "Requirement already satisfied: typing-extensions<5.0.0,>=4.11.0 in /usr/local/lib/python3.11/dist-packages (from google-genai==1.15.0) (4.13.2)\n",
            "Requirement already satisfied: idna>=2.8 in /usr/local/lib/python3.11/dist-packages (from anyio<5.0.0,>=4.8.0->google-genai==1.15.0) (3.10)\n",
            "Requirement already satisfied: sniffio>=1.1 in /usr/local/lib/python3.11/dist-packages (from anyio<5.0.0,>=4.8.0->google-genai==1.15.0) (1.3.1)\n",
            "Requirement already satisfied: cachetools<6.0,>=2.0.0 in /usr/local/lib/python3.11/dist-packages (from google-auth<3.0.0,>=2.14.1->google-genai==1.15.0) (5.5.2)\n",
            "Requirement already satisfied: pyasn1-modules>=0.2.1 in /usr/local/lib/python3.11/dist-packages (from google-auth<3.0.0,>=2.14.1->google-genai==1.15.0) (0.4.2)\n",
            "Requirement already satisfied: rsa<5,>=3.1.4 in /usr/local/lib/python3.11/dist-packages (from google-auth<3.0.0,>=2.14.1->google-genai==1.15.0) (4.9.1)\n",
            "Requirement already satisfied: certifi in /usr/local/lib/python3.11/dist-packages (from httpx<1.0.0,>=0.28.1->google-genai==1.15.0) (2025.4.26)\n",
            "Requirement already satisfied: httpcore==1.* in /usr/local/lib/python3.11/dist-packages (from httpx<1.0.0,>=0.28.1->google-genai==1.15.0) (1.0.9)\n",
            "Requirement already satisfied: h11>=0.16 in /usr/local/lib/python3.11/dist-packages (from httpcore==1.*->httpx<1.0.0,>=0.28.1->google-genai==1.15.0) (0.16.0)\n",
            "Requirement already satisfied: annotated-types>=0.6.0 in /usr/local/lib/python3.11/dist-packages (from pydantic<3.0.0,>=2.0.0->google-genai==1.15.0) (0.7.0)\n",
            "Requirement already satisfied: pydantic-core==2.33.2 in /usr/local/lib/python3.11/dist-packages (from pydantic<3.0.0,>=2.0.0->google-genai==1.15.0) (2.33.2)\n",
            "Requirement already satisfied: typing-inspection>=0.4.0 in /usr/local/lib/python3.11/dist-packages (from pydantic<3.0.0,>=2.0.0->google-genai==1.15.0) (0.4.0)\n",
            "Requirement already satisfied: charset-normalizer<4,>=2 in /usr/local/lib/python3.11/dist-packages (from requests<3.0.0,>=2.28.1->google-genai==1.15.0) (3.4.2)\n",
            "Requirement already satisfied: urllib3<3,>=1.21.1 in /usr/local/lib/python3.11/dist-packages (from requests<3.0.0,>=2.28.1->google-genai==1.15.0) (2.4.0)\n",
            "Requirement already satisfied: pyasn1<0.7.0,>=0.6.1 in /usr/local/lib/python3.11/dist-packages (from pyasn1-modules>=0.2.1->google-auth<3.0.0,>=2.14.1->google-genai==1.15.0) (0.6.1)\n"
          ]
        }
      ],
      "source": [
        "# Biblioteca necessária para interagir com a API do Gemini\n",
        "\n",
        "!pip install google-genai==1.15.0"
      ]
    },
    {
      "cell_type": "code",
      "execution_count": 2,
      "metadata": {
        "id": "uqBT6-Z9vjO1"
      },
      "outputs": [],
      "source": [
        "import os\n",
        "from google.colab import userdata\n",
        "\n",
        "# Autentica com a API do Google Gemini usando a chave de API armazenada nos secrets do Colab\n",
        "os.environ['GOOGLE_API_KEY'] = userdata.get('GOOGLE_API_KEY')"
      ]
    },
    {
      "cell_type": "code",
      "execution_count": 3,
      "metadata": {
        "id": "U8-GnqUUxkzf"
      },
      "outputs": [],
      "source": [
        "from google import genai\n",
        "\n",
        "client = genai.Client()"
      ]
    },
    {
      "cell_type": "code",
      "execution_count": 4,
      "metadata": {
        "id": "OU4CjVVPxvM4",
        "colab": {
          "base_uri": "https://localhost:8080/"
        },
        "outputId": "18ac2ae2-835d-4562-e646-6b83d3176132"
      },
      "outputs": [
        {
          "output_type": "stream",
          "name": "stdout",
          "text": [
            "models/embedding-gecko-001\n",
            "models/gemini-1.0-pro-vision-latest\n",
            "models/gemini-pro-vision\n",
            "models/gemini-1.5-pro-latest\n",
            "models/gemini-1.5-pro-001\n",
            "models/gemini-1.5-pro-002\n",
            "models/gemini-1.5-pro\n",
            "models/gemini-1.5-flash-latest\n",
            "models/gemini-1.5-flash-001\n",
            "models/gemini-1.5-flash-001-tuning\n",
            "models/gemini-1.5-flash\n",
            "models/gemini-1.5-flash-002\n",
            "models/gemini-1.5-flash-8b\n",
            "models/gemini-1.5-flash-8b-001\n",
            "models/gemini-1.5-flash-8b-latest\n",
            "models/gemini-1.5-flash-8b-exp-0827\n",
            "models/gemini-1.5-flash-8b-exp-0924\n",
            "models/gemini-2.5-pro-exp-03-25\n",
            "models/gemini-2.5-pro-preview-03-25\n",
            "models/gemini-2.5-flash-preview-04-17\n",
            "models/gemini-2.5-flash-preview-05-20\n",
            "models/gemini-2.5-flash-preview-04-17-thinking\n",
            "models/gemini-2.5-pro-preview-05-06\n",
            "models/gemini-2.0-flash-exp\n",
            "models/gemini-2.0-flash\n",
            "models/gemini-2.0-flash-001\n",
            "models/gemini-2.0-flash-exp-image-generation\n",
            "models/gemini-2.0-flash-lite-001\n",
            "models/gemini-2.0-flash-lite\n",
            "models/gemini-2.0-flash-preview-image-generation\n",
            "models/gemini-2.0-flash-lite-preview-02-05\n",
            "models/gemini-2.0-flash-lite-preview\n",
            "models/gemini-2.0-pro-exp\n",
            "models/gemini-2.0-pro-exp-02-05\n",
            "models/gemini-exp-1206\n",
            "models/gemini-2.0-flash-thinking-exp-01-21\n",
            "models/gemini-2.0-flash-thinking-exp\n",
            "models/gemini-2.0-flash-thinking-exp-1219\n",
            "models/gemini-2.5-flash-preview-tts\n",
            "models/gemini-2.5-pro-preview-tts\n",
            "models/learnlm-2.0-flash-experimental\n",
            "models/gemma-3-1b-it\n",
            "models/gemma-3-4b-it\n",
            "models/gemma-3-12b-it\n",
            "models/gemma-3-27b-it\n",
            "models/gemma-3n-e4b-it\n",
            "models/embedding-001\n",
            "models/text-embedding-004\n",
            "models/gemini-embedding-exp-03-07\n",
            "models/gemini-embedding-exp\n",
            "models/aqa\n",
            "models/imagen-3.0-generate-002\n",
            "models/veo-2.0-generate-001\n",
            "models/gemini-2.5-flash-preview-native-audio-dialog\n",
            "models/gemini-2.5-flash-exp-native-audio-thinking-dialog\n",
            "models/gemini-2.0-flash-live-001\n"
          ]
        }
      ],
      "source": [
        "for model in client.models.list():\n",
        "  print(model.name)"
      ]
    },
    {
      "cell_type": "code",
      "execution_count": 5,
      "metadata": {
        "id": "hPP4VpIazziI"
      },
      "outputs": [],
      "source": [
        "modelo = \"gemini-2.0-flash\" # Define o modelo Gemini a ser utilizado no chat\n",
        "\n",
        "resposta = client.models.generate_content(model=modelo, contents=\"Quem é a empresa por trás dos modelos Gemini?\")"
      ]
    },
    {
      "cell_type": "code",
      "execution_count": 6,
      "metadata": {
        "id": "Sq9oRnTw0Ves",
        "colab": {
          "base_uri": "https://localhost:8080/",
          "height": 35
        },
        "outputId": "b6fbb774-0921-47ab-eeb6-c6b8e5731611"
      },
      "outputs": [
        {
          "output_type": "execute_result",
          "data": {
            "text/plain": [
              "'A empresa por trás dos modelos Gemini é o **Google**.\\n'"
            ],
            "application/vnd.google.colaboratory.intrinsic+json": {
              "type": "string"
            }
          },
          "metadata": {},
          "execution_count": 6
        }
      ],
      "source": [
        "resposta.text"
      ]
    },
    {
      "cell_type": "markdown",
      "metadata": {
        "id": "IObr47Ck3DnS"
      },
      "source": [
        "A criação do chat bot começa a partir daqui."
      ]
    },
    {
      "cell_type": "code",
      "execution_count": 7,
      "metadata": {
        "id": "s0MPNlyF3LC_",
        "colab": {
          "base_uri": "https://localhost:8080/",
          "height": 105
        },
        "outputId": "ff40167b-492c-43bc-f43f-2c85279fc625"
      },
      "outputs": [
        {
          "output_type": "execute_result",
          "data": {
            "text/plain": [
              "'A raça de gato mais cara do mundo é geralmente considerada o **Ashera**.\\n\\n**Ashera:**\\n\\n*   **Preço:** Os preços podem variar bastante, mas geralmente ficam entre **US$ 15.000 e US$ 100.000** (ou mais) dependendo da linhagem e características específicas.\\n*   **Características:** O Ashera é uma raça híbrida desenvolvida pela Lifestyle Pets nos Estados Unidos. Alega-se que seja um cruzamento entre o Serval africano, o Leopardo Asiático e um gato doméstico. Eles são gatos grandes e exóticos, com uma pelagem semelhante à de um leopardo, mas com temperamento dócil. No entanto, a legitimidade da raça Ashera é controversa, com algumas alegações de que são apenas gatos Savannah modificados.\\n\\n**Outras raças de gatos caras incluem:**\\n\\n*   **Savannah:** Assim como o Ashera, o Savannah é uma raça híbrida resultante do cruzamento entre um gato doméstico e um Serval africano. O preço pode variar de **US$ 1.000 a US$ 20.000**, dependendo da geração (quanto mais próximo do Serval, mais caro).\\n*   **Bengal:** O Bengal é um gato doméstico com uma aparência selvagem, resultado do cruzamento com o Leopardo Asiático. O preço geralmente varia de **US$ 1.500 a US$ 5.000**.\\n*   **Persa:** Gatos persas de linhagem pura e com pedigree podem custar entre **US$ 1.800 e US$ 5.000**.\\n*   **Peterbald:** Esta raça russa é conhecida por sua falta de pelos ou pelos muito curtos e macios. O preço pode variar de **US$ 1.700 a US$ 3.000**.\\n*   **Sphynx:** Outra raça sem pelos, o Sphynx é conhecido por sua aparência única e personalidade extrovertida. O preço pode variar de **US$ 1.500 a US$ 3.000**.\\n\\nÉ importante notar que os preços podem variar dependendo do criador, da linhagem, da região e da demanda. Além disso, o custo inicial do gato é apenas uma parte das despesas. Alimentação, cuidados veterinários e outros suprimentos também devem ser considerados.'"
            ],
            "application/vnd.google.colaboratory.intrinsic+json": {
              "type": "string"
            }
          },
          "metadata": {},
          "execution_count": 7
        }
      ],
      "source": [
        "chat = client.chats.create(model=modelo) # Cria uma instância de chat\n",
        "\n",
        "resposta = chat.send_message(\"Qual a raça de gatos mais cara?\")\n",
        "\n",
        "resposta.text"
      ]
    },
    {
      "cell_type": "code",
      "execution_count": 8,
      "metadata": {
        "id": "G4AOAnqx3cgm"
      },
      "outputs": [],
      "source": [
        "# Configura o comportamento do chatbot usando 'system_instruction' para que ele responda de forma sucinta\n",
        "\n",
        "from google.genai import types\n",
        "\n",
        "chat_config = types.GenerateContentConfig(\n",
        "    system_instruction = \"Você é um assistente pessoal e você sempre responde de forma sucinta\"\n",
        ")\n",
        "\n",
        "chat = client.chats.create(model=modelo, config=chat_config) # Cria uma nova instância de chat com a configuração aplicada"
      ]
    },
    {
      "cell_type": "code",
      "execution_count": 9,
      "metadata": {
        "id": "wlYK91Qb-M4N",
        "colab": {
          "base_uri": "https://localhost:8080/",
          "height": 35
        },
        "outputId": "9a06688f-c1a0-4475-ca1d-771e493e15af"
      },
      "outputs": [
        {
          "output_type": "execute_result",
          "data": {
            "text/plain": [
              "'O Ashera.'"
            ],
            "application/vnd.google.colaboratory.intrinsic+json": {
              "type": "string"
            }
          },
          "metadata": {},
          "execution_count": 9
        }
      ],
      "source": [
        "resposta = chat.send_message(\"Qual a raça de gatos mais cara?\")\n",
        "\n",
        "resposta.text"
      ]
    },
    {
      "cell_type": "code",
      "execution_count": 10,
      "metadata": {
        "id": "6xg7GnLz8WNC",
        "colab": {
          "base_uri": "https://localhost:8080/"
        },
        "outputId": "f9dc2b43-67cf-459f-9181-30811fc56d29"
      },
      "outputs": [
        {
          "output_type": "stream",
          "name": "stdout",
          "text": [
            "Qual a raça de gatos mais cara?\n",
            "O Ashera.\n"
          ]
        }
      ],
      "source": [
        "# Recolhe o histórico das mensagens\n",
        "\n",
        "chat.get_history()\n",
        "for message in chat.get_history():\n",
        "    for part in message.parts:\n",
        "        print(part.text) # Simplifica as mensagens do histórico"
      ]
    },
    {
      "cell_type": "code",
      "execution_count": 11,
      "metadata": {
        "id": "JN6gHfYI9BM6",
        "colab": {
          "base_uri": "https://localhost:8080/"
        },
        "outputId": "bedc3fe3-86ba-41a6-80a4-70e3102b3b12"
      },
      "outputs": [
        {
          "name": "stdout",
          "output_type": "stream",
          "text": [
            "Esperando prompt: Qual o edifício mais alto do mundo?\n",
            "Resposta: Burj Khalifa.\n",
            "\n",
            "\n",
            "Esperando prompt: E quando ele foi construído?\n",
            "Resposta: 2010.\n",
            "\n",
            "\n",
            "Esperando prompt: Quanto custou?\n",
            "Resposta: $1.5 bilhões USD.\n",
            "\n",
            "\n",
            "Esperando prompt: fim\n"
          ]
        }
      ],
      "source": [
        "# Loop para interagir com o chatbot em tempo real\n",
        "\n",
        "prompt = \"\"\n",
        "\n",
        "while prompt != \"fim\":\n",
        "    prompt = input(\"Esperando prompt: \")\n",
        "\n",
        "    if not prompt.strip():\n",
        "        print(\"Ei, você esqueceu de digitar!\\n\")\n",
        "        continue  # Volta para o início do loop sem enviar a mensagem\n",
        "\n",
        "    if prompt != \"fim\": # Palavra chave que encerra a conversa\n",
        "        resposta = chat.send_message(prompt)\n",
        "        print(\"Resposta:\", resposta.text)\n",
        "        print(\"\\n\")"
      ]
    },
    {
      "cell_type": "code",
      "execution_count": 12,
      "metadata": {
        "id": "DAvIoLiBfnfU",
        "colab": {
          "base_uri": "https://localhost:8080/"
        },
        "outputId": "1611ecb3-f571-4d0c-e4c7-a2230b069e58"
      },
      "outputs": [
        {
          "output_type": "stream",
          "name": "stdout",
          "text": [
            "Qual a raça de gatos mais cara?\n",
            "O Ashera.\n",
            "Qual o edifício mais alto do mundo?\n",
            "Burj Khalifa.\n",
            "E quando ele foi construído?\n",
            "2010.\n",
            "Quanto custou?\n",
            "$1.5 bilhões USD.\n"
          ]
        }
      ],
      "source": [
        "chat.get_history()\n",
        "for message in chat.get_history():\n",
        "    for part in message.parts:\n",
        "        print(part.text)"
      ]
    }
  ],
  "metadata": {
    "colab": {
      "provenance": [],
      "authorship_tag": "ABX9TyMiBOnXm2XR70MOR4Cy3bMg",
      "include_colab_link": true
    },
    "kernelspec": {
      "display_name": "Python 3",
      "name": "python3"
    },
    "language_info": {
      "name": "python"
    }
  },
  "nbformat": 4,
  "nbformat_minor": 0
}